{
  "nbformat": 4,
  "nbformat_minor": 0,
  "metadata": {
    "colab": {
      "provenance": [],
      "include_colab_link": true
    },
    "kernelspec": {
      "name": "python3",
      "display_name": "Python 3"
    },
    "language_info": {
      "name": "python"
    }
  },
  "cells": [
    {
      "cell_type": "markdown",
      "metadata": {
        "id": "view-in-github",
        "colab_type": "text"
      },
      "source": [
        "<a href=\"https://colab.research.google.com/github/Kesyaghea/Konseppbo/blob/main/TugasEnkapsulasi3keysa.ipynb\" target=\"_parent\"><img src=\"https://colab.research.google.com/assets/colab-badge.svg\" alt=\"Open In Colab\"/></a>"
      ]
    },
    {
      "cell_type": "markdown",
      "source": [
        "Buatlah kelas RekeningBank dengan atribut berikut:\n",
        "\n",
        "*   nama_pemilik (private)\n",
        "*   saldo (private)\n",
        "\n",
        "Berikan metode berikut:\n",
        "\n",
        "*   __init__: Menginisialisasi saldo dan nama_pemilik.\n",
        "*   set_saldo: Mengubah nilai saldo.\n",
        "*   get_saldo: Mengembalikan nilai saldo.\n",
        "*   set_nama_pemilik: Mengubah nama pemilik.\n",
        "*   get_nama_pemilik: Mengembalikan nama pemilik.\n",
        "\n",
        "\n",
        "\n",
        "\n",
        "\n",
        "\n",
        "\n",
        "\n"
      ],
      "metadata": {
        "id": "PktiI90eS6Ee"
      }
    },
    {
      "cell_type": "code",
      "source": [
        "# Desain class\n",
        "class RekeningBank:\n",
        "  def __init__(self, nama_pemilik, saldo):\n",
        "    self.__nama_pemilik = nama_pemilik\n",
        "    self.__saldo = saldo\n",
        "\n",
        "  def get_nama_pemilik(self):\n",
        "    return self.__nama_pemilik\n",
        "  def set_nama_pemilik(self, nama_pemilik):\n",
        "    self.__nama_pemilik = nama_pemilik\n",
        "  def get_saldo(self):\n",
        "    return self.__saldo\n",
        "  def set_saldo(self, saldo):\n",
        "    self.__saldo = saldo\n",
        "  def setor(self, jumlah):\n",
        "    if jumlah > 0:\n",
        "      self.__saldo += jumlah\n",
        "      print('behasil.total saldo sekarang :', self.__saldo)\n",
        "    else:\n",
        "      print(\"jumlah setor harus lebih dari 0\")\n",
        "  def tarik(self, jumlah):\n",
        "    if jumlah > 0 and jumlah <= self.__saldo:\n",
        "      self.__saldo -= jumlah\n",
        "      print('tarik', jumlah)\n",
        "      print('berhasil. total saldo sekarang :', self.__saldo)\n",
        "    else:\n",
        "      print(\"jumlah saldo tidak mencukupi\")\n"
      ],
      "metadata": {
        "id": "Pyj-mkyciVfk"
      },
      "execution_count": 19,
      "outputs": []
    },
    {
      "cell_type": "code",
      "source": [
        "#Program utama untuk mendemonstrasikan class RekeningBank\n",
        "#yang menunjukkan penggunaan semua fungsi yang ada\n",
        "#menganalisasi saldo dan nama_pemilik\n",
        "keysa = RekeningBank('keyy',4000000)\n",
        "\n",
        "#mengembalikan nilai saldo\n",
        "print('RekeningBank:',keysa.get_nama_pemilik(), 'saldo:', keysa.get_saldo())\n",
        "\n",
        "# mengubah nilai saldo dan nama pemilik\n",
        "keysa.set_nama_pemilik('reyy')\n",
        "keysa.set_saldo('23000000')\n",
        "\n",
        "# Mengakses/menampilkan nama_pemilik dan saldo setelah diubah\n",
        "print('RekeningBank:', keysa.get_nama_pemilik(), 'saldo:', keysa.get_saldo())"
      ],
      "metadata": {
        "id": "aOwy6rfdSga2",
        "colab": {
          "base_uri": "https://localhost:8080/"
        },
        "outputId": "a00c4eba-4398-4860-d9fa-cac7b0ce53ca"
      },
      "execution_count": 20,
      "outputs": [
        {
          "output_type": "stream",
          "name": "stdout",
          "text": [
            "RekeningBank: keyy saldo: 4000000\n",
            "RekeningBank: reyy saldo: 23000000\n"
          ]
        }
      ]
    },
    {
      "cell_type": "code",
      "source": [
        "#demo program utama\n",
        "RekeningBankkeysa = RekeningBank(\"keysa\",5000000)\n",
        "\n",
        "#mengakses atau menampilkan informasi awal Rekeningbank\n",
        "print(\"informasi rekening bank sekarang:\")\n",
        "print(\"nama pemilik:\",RekeningBankkeysa.get_nama_pemilik())\n",
        "print(\"saldo awal :\", RekeningBankkeysa.get_saldo())\n",
        "\n",
        "#melakukan setor\n",
        "RekeningBankkeysa.setor(130000) #jumlah lebih dari 0\n",
        "RekeningBankkeysa.setor(0) #jumlah kurang dengan 0\n",
        "\n",
        "#melakukan tarikan saldo\n",
        "RekeningBankkeysa.tarik(123000) #jumlah saldo tidak melebihi saldo pertama\n",
        "RekeningBankkeysa.tarik(23000000) #jumlah saldo melebihi saldo pertama\n",
        "\n",
        "#mengakses atau menampilkan informasi akhir RekeningBanksaya\n",
        "print(\"informasi rekeningbanksaya :\")\n",
        "print(\"nama pemilik :\", RekeningBankkeysa.get_nama_pemilik())\n",
        "print(\"saldo akhir :\", RekeningBankkeysa.get_saldo())"
      ],
      "metadata": {
        "colab": {
          "base_uri": "https://localhost:8080/"
        },
        "id": "hc92h8IUH_vV",
        "outputId": "71bbbf1c-6fe2-48fb-906a-3c9aff35bd4f"
      },
      "execution_count": 21,
      "outputs": [
        {
          "output_type": "stream",
          "name": "stdout",
          "text": [
            "informasi rekening bank sekarang:\n",
            "nama pemilik: keysa\n",
            "saldo awal : 5000000\n",
            "behasil.total saldo sekarang : 5130000\n",
            "jumlah setor harus lebih dari 0\n",
            "tarik 123000\n",
            "berhasil. total saldo sekarang : 5007000\n",
            "jumlah saldo tidak mencukupi\n",
            "informasi rekeningbanksaya :\n",
            "nama pemilik : keysa\n",
            "saldo akhir : 5007000\n"
          ]
        }
      ]
    }
  ]
}