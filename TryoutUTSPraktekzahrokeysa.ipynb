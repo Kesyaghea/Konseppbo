{
  "nbformat": 4,
  "nbformat_minor": 0,
  "metadata": {
    "colab": {
      "provenance": [],
      "include_colab_link": true
    },
    "kernelspec": {
      "name": "python3",
      "display_name": "Python 3"
    },
    "language_info": {
      "name": "python"
    }
  },
  "cells": [
    {
      "cell_type": "markdown",
      "metadata": {
        "id": "view-in-github",
        "colab_type": "text"
      },
      "source": [
        "<a href=\"https://colab.research.google.com/github/Kesyaghea/Konseppbo/blob/main/TryoutUTSPraktekzahrokeysa.ipynb\" target=\"_parent\"><img src=\"https://colab.research.google.com/assets/colab-badge.svg\" alt=\"Open In Colab\"/></a>"
      ]
    },
    {
      "cell_type": "markdown",
      "source": [
        "Anda adalah seorang ilmuwan lingkungan yang bekerja dalam penelitian organisme di berbagai ekosistem. Anda memiliki kelas dasar Organisme dengan atribut berikut:\n",
        "\n",
        "*   nama (nama organisme)\n",
        "*   jenis (jenis organisme, misalnya, tumbuhan, hewan, mikroba, dll.)\n",
        "\n",
        "Selain itu, Anda memiliki dua jenis organisme spesifik: **Tumbuhan** dan **Hewan**.\n",
        "\n",
        "Tumbuhan memiliki atribut tambahan yaitu lokasi (lokasi tumbuhan ditemukan, misalnya, hutan, sungai, dll.)\n",
        "\n",
        "Sementara Hewan memiliki atribut tambahan yaitu makanan (jenis makanan yang dikonsumsi hewan, misalnya, herbivora, karnivora, omnivora, dll.)\n",
        "\n",
        "\n",
        "Anda ditugaskan membuat program Python yang memungkinkan Anda untuk mencetak informasi tentang setiap organisme, termasuk nama, jenis, serta atribut tambahan yang sesuai (lokasi atau jenis makanan)."
      ],
      "metadata": {
        "id": "Xcnm52jtL9YY"
      }
    },
    {
      "cell_type": "code",
      "execution_count": 22,
      "metadata": {
        "id": "9pLv2WhSLUZc"
      },
      "outputs": [],
      "source": [
        "class Organisme:\n",
        "#Buat class Organisme disini\n",
        "  def __init__ (self, nama, jenis):\n",
        "    self.nama = nama\n",
        "    self.jenis = jenis\n",
        "\n",
        "  def deskripsi(self):\n",
        "    print(\"Nama:\", self.nama, \"Jenis organisme:\", self.jenis)"
      ]
    },
    {
      "cell_type": "code",
      "source": [
        "class Tumbuhan(Organisme):\n",
        "#Buat class Tumbuhan disini\n",
        "  def __init__ (self, nama, jenis, lokasi):\n",
        "    super().__init__(nama, jenis)\n",
        "    self.lokasi = lokasi\n",
        "\n",
        "  def deskripsi(self):\n",
        "    super().deskripsi()\n",
        "    print('--> Lokasi tumbuhan ditemukan :', self.lokasi)"
      ],
      "metadata": {
        "id": "aZ-2FjdaObMu"
      },
      "execution_count": 23,
      "outputs": []
    },
    {
      "cell_type": "code",
      "source": [
        "class Hewan(Organisme):\n",
        "#Buat class Hewan disini\n",
        "  def __init__ (self, nama, jenis, makanan):\n",
        "    super().__init__(nama, jenis)\n",
        "    self.makanan = makanan\n",
        "\n",
        "  def deskripsi(self):\n",
        "    super().deskripsi()\n",
        "    print('--> jenis makanan :', self.makanan)\n"
      ],
      "metadata": {
        "id": "ItwqUUUjOdp4"
      },
      "execution_count": 24,
      "outputs": []
    },
    {
      "cell_type": "code",
      "source": [
        "#Buat program disini untuk menggunakan class-class di atas dan menampilkan informasi\n",
        "# organisme tumbuhan\n",
        "organisme1= Tumbuhan(\"Lily\", \"Tumbuhan\", \"Pegunungan\")\n",
        "\n",
        "# organisme hewan\n",
        "organisme2= Hewan(\"Singa\", \"Hewan\", \"Karnivora\")\n",
        "\n",
        "# Deskripsi Tumbuhan\n",
        "print(\"Deskripsi Tumbuhan:\")\n",
        "organisme1.deskripsi()\n",
        "# Deskripsi Hewan\n",
        "print(\"Deskripsi Hewan:\")\n",
        "organisme2.deskripsi()\n"
      ],
      "metadata": {
        "id": "gWi4_l0gOe-8",
        "colab": {
          "base_uri": "https://localhost:8080/"
        },
        "outputId": "f254cccb-0097-4f53-ed0a-c52a97566b8d"
      },
      "execution_count": 25,
      "outputs": [
        {
          "output_type": "stream",
          "name": "stdout",
          "text": [
            "Deskripsi Tumbuhan:\n",
            "Nama: Lily Jenis organisme: Tumbuhan\n",
            "--> Lokasi tumbuhan ditemukan : Pegunungan\n",
            "Deskripsi Hewan:\n",
            "Nama: Singa Jenis organisme: Hewan\n",
            "--> jenis makanan : Karnivora\n"
          ]
        }
      ]
    },
    {
      "cell_type": "markdown",
      "source": [
        "# Penjelasan:\n",
        "\n",
        "Class **Organisme** adalah kelas induk dengan atribut **nama** dan **jenis**. Fungsi **Deskripsi** dalam kelas ini mencetak informasi umum tentang organisme.\n",
        "\n",
        "Class **Tumbuhan** adalah class turunan dari class Organisme dan memiliki atribut tambahan **lokasi**. Fungsi **Deskripsi** dalam class ini memanggil fungsi **Deskripsi** dari class dasar (super().deskripsi()) dan mencetak informasi tambahan tentang tumbuhan, yaitu **Lokasi tumbuhan di temukan**.\n",
        "\n",
        "Class **Hewan** juga mewarisi dari class **Organisme** dan memiliki atribut tambahan **makanan**. Fungsi **Deskripsi** dalam class ini juga memanggil Fungsi dari class organisme dan mencetak informasi tambahan tentang makanan, yaitu **jenis makanan**"
      ],
      "metadata": {
        "id": "2xAfWE4hMnGD"
      }
    }
  ]
}