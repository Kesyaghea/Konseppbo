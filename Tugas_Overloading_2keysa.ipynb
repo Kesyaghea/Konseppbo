{
  "nbformat": 4,
  "nbformat_minor": 0,
  "metadata": {
    "colab": {
      "provenance": [],
      "include_colab_link": true
    },
    "kernelspec": {
      "name": "python3",
      "display_name": "Python 3"
    },
    "language_info": {
      "name": "python"
    }
  },
  "cells": [
    {
      "cell_type": "markdown",
      "metadata": {
        "id": "view-in-github",
        "colab_type": "text"
      },
      "source": [
        "<a href=\"https://colab.research.google.com/github/Kesyaghea/Konseppbo/blob/main/Tugas_Overloading_2keysa.ipynb\" target=\"_parent\"><img src=\"https://colab.research.google.com/assets/colab-badge.svg\" alt=\"Open In Colab\"/></a>"
      ]
    },
    {
      "cell_type": "code",
      "execution_count": 1,
      "metadata": {
        "id": "5zCytCeM1uD4"
      },
      "outputs": [],
      "source": [
        "#class Nama\n",
        "class Nama:\n",
        "#Buat fungsi yang digunakan untuk mengabungkan nama dengan ketentuan nama depan, nama tengah, nama akhir, dan seterusnya dianggap 1 (satu) parameter\n",
        " def gabung(self, nama_depan , nama_tengah, nama_akhir):\n",
        "  k = nama_depan + nama_tengah + nama_akhir\n",
        "  print(k)\n",
        "\n",
        " def gabung(self, *args):\n",
        "        if (len(args) <= 4):\n",
        "            sum = ''\n",
        "            for num in args:\n",
        "                sum += num\n",
        "            print(sum)\n",
        "        else:\n",
        "          'maksimal 4 parameter'"
      ]
    },
    {
      "cell_type": "code",
      "source": [
        "#Buat main program\n",
        "hasil = Nama()\n",
        "#Panggil fungsi untuk membuat nama lengkap 4 nama teman kalian\n",
        "hasil.gabung(\"Muhammad \" , \"Rofik \", \"Abdulloh \", \"Tsaqif \")\n",
        "hasil.gabung(\"keysa \" ,\"ghea \")\n",
        "hasil.gabung(\"zahrotul \" ,\"Hikmah \")\n",
        "hasil.gabung(\"fara \" ,\"azzura \",\"Dasgupta\")"
      ],
      "metadata": {
        "id": "liQBcJWZ12MN",
        "colab": {
          "base_uri": "https://localhost:8080/"
        },
        "outputId": "386349e7-c4ee-403f-fe2f-6951bff2bccd"
      },
      "execution_count": 6,
      "outputs": [
        {
          "output_type": "stream",
          "name": "stdout",
          "text": [
            "Muhammad Rofik Abdulloh Tsaqif \n",
            "keysa ghea \n",
            "zahrotul Hikmah \n",
            "fara azzura Dasgupta\n"
          ]
        }
      ]
    },
    {
      "cell_type": "code",
      "source": [
        "#Tulisakan kesimpulan dari materi Overloading menurut pemahaman anda!\n",
        "#sebuah kelas yang dapat memiliki beberapa method dengan nama yang sama tetapi dengan parameter yang berbeda dan parameternya bisa di batasi"
      ],
      "metadata": {
        "id": "xwFmppIG3JGE"
      },
      "execution_count": null,
      "outputs": []
    }
  ]
}