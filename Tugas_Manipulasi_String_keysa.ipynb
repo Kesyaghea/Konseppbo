{
  "nbformat": 4,
  "nbformat_minor": 0,
  "metadata": {
    "colab": {
      "provenance": [],
      "include_colab_link": true
    },
    "kernelspec": {
      "name": "python3",
      "display_name": "Python 3"
    },
    "language_info": {
      "name": "python"
    }
  },
  "cells": [
    {
      "cell_type": "markdown",
      "metadata": {
        "id": "view-in-github",
        "colab_type": "text"
      },
      "source": [
        "<a href=\"https://colab.research.google.com/github/Kesyaghea/Konseppbo/blob/main/Tugas_Manipulasi_String_keysa.ipynb\" target=\"_parent\"><img src=\"https://colab.research.google.com/assets/colab-badge.svg\" alt=\"Open In Colab\"/></a>"
      ]
    },
    {
      "cell_type": "markdown",
      "source": [
        "buatlah class Catatan dengan atribut\n",
        "1. nama (string)\n",
        "2. nomor_absen (intejer)\n",
        "3. catatan (string)\n",
        "\n",
        "buat fungsi untuk\n",
        "1. menggabungkan semua atribut diatas menjadi sebuah kalimat menggunakan pertambahan string\n",
        "2. menampilkan kalimat gabungan semua atribut\n",
        "3. mencari kata dalam sebuah kalimat menggunakan fungsi in\n",
        "4. menggandakan jumlah kalimat menggunakan tanda perkalian *\n",
        "5. menghitung jumlah huruf dalam kalimat menggunakan len\n",
        "6. mencari kata pertama dalam kalimat menggunakan startswith"
      ],
      "metadata": {
        "id": "AIkziXKoHrlK"
      }
    },
    {
      "cell_type": "code",
      "source": [
        "#desain class\n",
        "class Catatan:\n",
        "  def __init__(self,nama,nomor_absen,catatan):\n",
        "    self.nama = nama\n",
        "    self.nomor_absen = nomor_absen\n",
        "    self.catatan = catatan\n",
        "  def gabung(self):\n",
        "    kalimat = self.nama + \" \" + str(self.nomor_absen) + \" \" + self.catatan\n",
        "    return kalimat\n",
        "\n",
        "  def tampil(self,kalimat):\n",
        "    print(kalimat)\n",
        "\n",
        "  def cari(self,kalimat):\n",
        "    print(\"keysa\" in kalimat)\n",
        "\n",
        "  def duplikasi(self,kalimat):\n",
        "    print(kalimat * 3)\n",
        "\n",
        "  def jumlah(self,kalimat):\n",
        "    print(len(kalimat))\n",
        "\n",
        "  def kataawal(self,kalimat):\n",
        "    print(kalimat.startswith('key'))\n",
        "    print(kalimat.startswith('sa'))\n"
      ],
      "metadata": {
        "id": "_YQuLGp_IA93"
      },
      "execution_count": 1,
      "outputs": []
    },
    {
      "cell_type": "code",
      "source": [
        "#main program\n",
        "ky = Catatan(\"keysa ghea\", 11, \"XI RPL 2\")\n",
        "ky.gabung()\n",
        "ky.tampil(ky.gabung())\n",
        "ky.cari(ky.gabung())\n",
        "ky.duplikasi(ky.gabung())\n",
        "ky.jumlah(ky.gabung())\n",
        "ky.kataawal(ky.gabung())\n"
      ],
      "metadata": {
        "id": "QdIPVcTJID9Q",
        "colab": {
          "base_uri": "https://localhost:8080/"
        },
        "outputId": "b3f02ceb-3476-4476-d550-7fb1875ee44d"
      },
      "execution_count": 2,
      "outputs": [
        {
          "output_type": "stream",
          "name": "stdout",
          "text": [
            "keysa ghea 11 XI RPL 2\n",
            "True\n",
            "keysa ghea 11 XI RPL 2keysa ghea 11 XI RPL 2keysa ghea 11 XI RPL 2\n",
            "22\n",
            "True\n",
            "False\n"
          ]
        }
      ]
    }
  ]
}