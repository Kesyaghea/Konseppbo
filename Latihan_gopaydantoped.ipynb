{
  "nbformat": 4,
  "nbformat_minor": 0,
  "metadata": {
    "colab": {
      "provenance": [],
      "include_colab_link": true
    },
    "kernelspec": {
      "name": "python3",
      "display_name": "Python 3"
    },
    "language_info": {
      "name": "python"
    }
  },
  "cells": [
    {
      "cell_type": "markdown",
      "metadata": {
        "id": "view-in-github",
        "colab_type": "text"
      },
      "source": [
        "<a href=\"https://colab.research.google.com/github/Kesyaghea/Konseppbo/blob/main/Latihan_gopaydantoped.ipynb\" target=\"_parent\"><img src=\"https://colab.research.google.com/assets/colab-badge.svg\" alt=\"Open In Colab\"/></a>"
      ]
    },
    {
      "cell_type": "markdown",
      "source": [
        "Sebuah start-up GoPay merupakan perusahaan vintage yang menjadi alat pembayaran aplikasi marketplace dan lainnya. Anda seorang programmer yang ditugaskan untuk membuat aplikasi GoPay yang memiliki sebuah class bernama AkunGopay, yang memiliki atribut no_hp, nama dan saldo, dimana semua atribut bersifat private, demi keamanan.\n",
        "\n",
        "\n",
        "Pengguna bisa mendaftar akun GoPay dengan no_hp dan nama saja, namun juga bisa mendaftar dengan no_hp, nama dan saldo. Jika mendaftar dengan no_hp dan nama saja maka saldo otomatis bernilai 0.\n",
        "\n",
        "\n",
        "Class AkunGopay harus menyediakan fungsi yang dapat diakses oleh Marketplace untuk melakukan transaksi, yaitu :\n",
        "\n",
        "1.   topUp(), yang digunakan untuk menambahkan saldo\n",
        "2.   bayarTransaksi(), yang mengurangi saldo ketika melakukan transaksi\n",
        "3.   getSaldo(), untuk mengetahui jumlah saldo\n",
        "\n",
        "\n",
        "\n",
        "Teman Anda adalah seorang programer yang bekerja di sebuah start-up terkemuka Tokopedia yang bekerjasama dengan start-up keuangan GoPay. Anda ditugaskan membuat apikasi yang memiliki class AkunToped, dan memiliki atribut nama dan nomer_hp.\n",
        "\n",
        "Class AkunToped harus menyediakan fungsi yang untuk melakukan transaksi, yaitu:\n",
        "\n",
        "1. transaksi(), yang digunakan untuk mengurangi saldo Gopay dengan paramater nominal transaksi.\n",
        "2. getSaldo(), untuk mengetahui jumlah saldo Gopay.\n",
        "\n"
      ],
      "metadata": {
        "id": "NOQKwrfHB4pv"
      }
    },
    {
      "cell_type": "code",
      "execution_count": 3,
      "metadata": {
        "id": "peDTMz-5kxlh"
      },
      "outputs": [],
      "source": [
        "#Desain Class\n",
        "class AkunGopay:\n",
        "  def __init__(self, no_hp, nama, saldo=0):\n",
        "    self.__no_hp = no_hp\n",
        "    self.__nama = nama\n",
        "    self.__saldo = saldo\n",
        "\n",
        "  def topUp(self, nominal):\n",
        "    self.__saldo += nominal\n",
        "    print(\"Saldo Awal :\",self.__saldo)\n",
        "\n",
        "  def bayarTransaksi(self, nominal):\n",
        "    if nominal <= self.__saldo:\n",
        "      self.__saldo -= nominal\n",
        "\n",
        "    else:\n",
        "      print(\"Saldo Tidak cukup\")\n",
        "\n",
        "  def getSaldo(self):\n",
        "    return self.__saldo\n",
        "\n",
        "class AkunToped:\n",
        "  def __init__(self, nama, no_hp):\n",
        "    self.__nama = nama\n",
        "    self.__no_hp = no_hp\n",
        "\n",
        "  def Transaksi(self, akun_gopay, nominal):\n",
        "      akun_gopay.bayarTransaksi(nominal)\n",
        "\n",
        "  def getSaldo(self, akun_gopay):\n",
        "    return akun_gopay.getSaldo()\n"
      ]
    },
    {
      "cell_type": "code",
      "source": [
        "#Main Program AkunGopay\n",
        "print(\"Akun GoPay\")\n",
        "akunK = AkunGopay(\"08976543\",\"Keysaa\",2000000000)\n",
        "print(\"Saldo :\", akunK.getSaldo())\n",
        "akunE = AkunGopay(\"082345678\", \"Ropikk\")\n",
        "print(\"Saldo :\", akunE.getSaldo())\n",
        "akunK.topUp(23000000)\n",
        "#akunK.BayarTransaksi(23400)\n",
        "akunK.getSaldo()\n",
        "\n",
        "#jumblah_transaksi = 41000\n",
        "#akuntopedK.TransaksiToped(akunK, jumblah_transaksi)\n",
        "\n",
        "#main program ToPed\n",
        "print(\"Akun ToPed\")\n",
        "akuntopedK = AkunToped(\"Keysaa\", \"08976543\")\n",
        "print(\"Saldo AkunGopay di ToPed :\", akuntopedK.getSaldo(akunK))\n",
        "akuntopedE = AkunToped(\"Ropikk\", \"082345678\")\n",
        "print(\"Saldo AkunGopay di ToPed :\", akuntopedE.getSaldo(akunE))\n",
        "\n",
        "#jumblah_transaksi = 41000\n",
        "#akuntopedK.TransaksiToped(akunK, jumblah_transaksi)\n",
        "#akuntopedE.getsaldo(akunE)\n",
        "\n",
        "#main program transaksi\n",
        "\n",
        "akunK = AkunGopay(\"08976543\",\"Keysaa\",2000000000)\n",
        "akunE = AkunGopay(\"082345678\", \"Ropikk\")\n",
        "\n",
        "akuntopedK = AkunToped(\"Keysaa\", \"08976543\")\n",
        "akuntopedE = AkunToped(\"Ropikk\", \"082345678\")\n",
        "\n",
        "akunK.topUp(100.0)\n",
        "akunE.topUp(200.0)\n",
        "\n",
        "nominal_Transaksi = 41000\n",
        "akuntopedK.Transaksi(akunK, nominal_Transaksi)\n",
        "akuntopedE.Transaksi(akunE, nominal_Transaksi)\n"
      ],
      "metadata": {
        "id": "eitzekkYkycQ",
        "colab": {
          "base_uri": "https://localhost:8080/"
        },
        "outputId": "f3cac174-543a-4f3d-f258-1ae6ddd67047"
      },
      "execution_count": 6,
      "outputs": [
        {
          "output_type": "stream",
          "name": "stdout",
          "text": [
            "Akun GoPay\n",
            "Saldo : 2000000000\n",
            "Saldo : 0\n",
            "Saldo Awal : 2023000000\n",
            "Akun ToPed\n",
            "Saldo AkunGopay di ToPed : 2023000000\n",
            "Saldo AkunGopay di ToPed : 0\n",
            "Saldo Awal : 2000000100.0\n",
            "Saldo Awal : 200.0\n",
            "Saldo Tidak cukup\n"
          ]
        }
      ]
    }
  ]
}