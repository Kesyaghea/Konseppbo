{
  "nbformat": 4,
  "nbformat_minor": 0,
  "metadata": {
    "colab": {
      "provenance": [],
      "include_colab_link": true
    },
    "kernelspec": {
      "name": "python3",
      "display_name": "Python 3"
    },
    "language_info": {
      "name": "python"
    }
  },
  "cells": [
    {
      "cell_type": "markdown",
      "metadata": {
        "id": "view-in-github",
        "colab_type": "text"
      },
      "source": [
        "<a href=\"https://colab.research.google.com/github/Kesyaghea/Konseppbo/blob/main/TugasInheritanceSiswa2keysaghea.ipynb\" target=\"_parent\"><img src=\"https://colab.research.google.com/assets/colab-badge.svg\" alt=\"Open In Colab\"/></a>"
      ]
    },
    {
      "cell_type": "markdown",
      "source": [
        "Buatlah tiga kelas: User, Siswa, dan Guru. Class Siswa dan Guru mewarisi atribute dan fungsi dari class User. Keduanya menambahkan atribut dan fungsi tambahan sesuai dengan peran masing-masing.\n",
        "\n",
        "Output dari program ini akan menampilkan informasi seorang siswa dan seorang guru dengan menggunakan fungsi tampil_info() yang diwarisi dari class User. Untuk info user yang ditampilkan silakan ditentukan sendiri minimal ada nama dan umur.\n",
        "\n",
        "Untuk informasi khusus dari siswa dan guru silakan tentukan sendiri, minimal satu atribute tambahan yang membedakan antara siswa dan guru."
      ],
      "metadata": {
        "id": "oWYx5WDsIouf"
      }
    },
    {
      "cell_type": "code",
      "execution_count": 1,
      "metadata": {
        "id": "VQWWW4rpH9ve"
      },
      "outputs": [],
      "source": [
        "#Class User\n",
        "class user:\n",
        "  def __init__(self, Nama, Umur):\n",
        "    self.Nama = Nama\n",
        "    self.Umur = Umur\n",
        "\n",
        "  def tampil_info (self):\n",
        "    pass"
      ]
    },
    {
      "cell_type": "code",
      "source": [
        "#Class Siswa\n",
        "class Siswa(user):\n",
        "  def __init__(self, Nama, Umur, Alamat):\n",
        "    super().__init__(Nama, Umur)\n",
        "    self.Alamat = Alamat\n",
        "\n",
        "  def tampil_info(self):\n",
        "    return self.Alamat"
      ],
      "metadata": {
        "id": "i_iBjMciJJc5"
      },
      "execution_count": 3,
      "outputs": []
    },
    {
      "cell_type": "code",
      "source": [
        "#Class Guru\n",
        "class Guru (user):\n",
        "  def __init__(self, Nama, Umur, Mapel):\n",
        "    super().__init__(Nama, Umur)\n",
        "    self.Mapel = Mapel\n",
        "\n",
        "  def tampil_info(self):\n",
        "    return self.mapel"
      ],
      "metadata": {
        "id": "lrnlKm6sJMjp"
      },
      "execution_count": 4,
      "outputs": []
    },
    {
      "cell_type": "code",
      "source": [
        "#Program utama untuk menampilkan info\n",
        "siswa1 = Siswa(\"keysa ghea\", 16, \"kedung rejo\")\n",
        "guru2 = Guru(\"Bpk rofik\", 28, \"mtk\")\n",
        "\n",
        "print(f\"Nama: {siswa1.Nama} Umur: {siswa1.Umur} Alamat: {siswa1.Alamat}\")\n",
        "print(f\"Nama: {guru2.Nama} Umur: {guru2.Umur} Mapel: {guru2.Mapel}\")"
      ],
      "metadata": {
        "id": "VDGIma_2JOVx",
        "colab": {
          "base_uri": "https://localhost:8080/"
        },
        "outputId": "6b00fa78-5cc2-4e01-eb0f-1c54d3781c3f"
      },
      "execution_count": 6,
      "outputs": [
        {
          "output_type": "stream",
          "name": "stdout",
          "text": [
            "Nama: keysa ghea Umur: 16 Alamat: kedung rejo\n",
            "Nama: Bpk rofik Umur: 28 Mapel: mtk\n"
          ]
        }
      ]
    }
  ]
}